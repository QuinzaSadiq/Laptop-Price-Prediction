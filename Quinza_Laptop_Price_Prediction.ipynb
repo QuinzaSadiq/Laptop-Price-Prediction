{
  "nbformat": 4,
  "nbformat_minor": 0,
  "metadata": {
    "colab": {
      "provenance": []
    },
    "kernelspec": {
      "name": "python3",
      "display_name": "Python 3"
    },
    "language_info": {
      "name": "python"
    }
  },
  "cells": [
    {
      "cell_type": "markdown",
      "source": [
        "# **Laptop Price Prediction**"
      ],
      "metadata": {
        "id": "dMb_rKC0L-4W"
      }
    },
    {
      "cell_type": "markdown",
      "source": [
        "# **Import necessary libraries**"
      ],
      "metadata": {
        "id": "bUBZIn6wMJHf"
      }
    },
    {
      "cell_type": "code",
      "execution_count": 3,
      "metadata": {
        "id": "z9YLAHboGdPo"
      },
      "outputs": [],
      "source": [
        "# Importing necessary libraries\n",
        "import pandas as pd\n",
        "import numpy as np\n",
        "from sklearn.model_selection import train_test_split, cross_val_score\n",
        "from sklearn.linear_model import LinearRegression\n",
        "from sklearn.ensemble import RandomForestRegressor, GradientBoostingRegressor\n",
        "from sklearn.metrics import mean_absolute_error, mean_squared_error\n",
        "import matplotlib.pyplot as plt\n",
        "\n",
        "# Load the dataset\n",
        "df = pd.read_csv('laptopPrice.csv')"
      ]
    },
    {
      "cell_type": "markdown",
      "source": [
        "# **Data Exploration**"
      ],
      "metadata": {
        "id": "GKsYOH00MNJP"
      }
    },
    {
      "cell_type": "code",
      "source": [
        "# 1. Data Exploration\n",
        "\n",
        "# Check for missing values\n",
        "print(\"Missing values in the dataset:\\n\", df.isnull().sum())\n",
        "\n",
        "# View dataset info\n",
        "print(\"\\nDataset Information:\\n\", df.info())\n",
        "\n",
        "# View summary statistics\n",
        "print(\"\\nSummary statistics:\\n\", df.describe())"
      ],
      "metadata": {
        "id": "EWR96JvEPwit",
        "colab": {
          "base_uri": "https://localhost:8080/"
        },
        "outputId": "2394f923-7a83-4c07-ec9e-a9e8c703f5b3"
      },
      "execution_count": 4,
      "outputs": [
        {
          "output_type": "stream",
          "name": "stdout",
          "text": [
            "Missing values in the dataset:\n",
            " brand                0\n",
            "processor_brand      0\n",
            "processor_name       0\n",
            "processor_gnrtn      0\n",
            "ram_gb               0\n",
            "ram_type             0\n",
            "ssd                  0\n",
            "hdd                  0\n",
            "os                   0\n",
            "os_bit               0\n",
            "graphic_card_gb      0\n",
            "weight               0\n",
            "warranty             0\n",
            "Touchscreen          0\n",
            "msoffice             0\n",
            "Price                0\n",
            "rating               0\n",
            "Number of Ratings    0\n",
            "Number of Reviews    0\n",
            "dtype: int64\n",
            "<class 'pandas.core.frame.DataFrame'>\n",
            "RangeIndex: 823 entries, 0 to 822\n",
            "Data columns (total 19 columns):\n",
            " #   Column             Non-Null Count  Dtype \n",
            "---  ------             --------------  ----- \n",
            " 0   brand              823 non-null    object\n",
            " 1   processor_brand    823 non-null    object\n",
            " 2   processor_name     823 non-null    object\n",
            " 3   processor_gnrtn    823 non-null    object\n",
            " 4   ram_gb             823 non-null    object\n",
            " 5   ram_type           823 non-null    object\n",
            " 6   ssd                823 non-null    object\n",
            " 7   hdd                823 non-null    object\n",
            " 8   os                 823 non-null    object\n",
            " 9   os_bit             823 non-null    object\n",
            " 10  graphic_card_gb    823 non-null    object\n",
            " 11  weight             823 non-null    object\n",
            " 12  warranty           823 non-null    object\n",
            " 13  Touchscreen        823 non-null    object\n",
            " 14  msoffice           823 non-null    object\n",
            " 15  Price              823 non-null    int64 \n",
            " 16  rating             823 non-null    object\n",
            " 17  Number of Ratings  823 non-null    int64 \n",
            " 18  Number of Reviews  823 non-null    int64 \n",
            "dtypes: int64(3), object(16)\n",
            "memory usage: 122.3+ KB\n",
            "\n",
            "Dataset Information:\n",
            " None\n",
            "\n",
            "Summary statistics:\n",
            "                Price  Number of Ratings  Number of Reviews\n",
            "count     823.000000         823.000000         823.000000\n",
            "mean    76745.177400         315.301337          37.609964\n",
            "std     45101.790525        1047.382654         121.728017\n",
            "min     16990.000000           0.000000           0.000000\n",
            "25%     46095.000000           0.000000           0.000000\n",
            "50%     64990.000000          17.000000           2.000000\n",
            "75%     89636.000000         139.500000          18.000000\n",
            "max    441990.000000       15279.000000        1947.000000\n"
          ]
        }
      ]
    },
    {
      "cell_type": "markdown",
      "source": [
        "# **Feature Engineering**"
      ],
      "metadata": {
        "id": "xU4IKmg4MUUx"
      }
    },
    {
      "cell_type": "code",
      "source": [
        "# 2. Feature Engineering\n",
        "\n",
        "# Cleaning columns\n",
        "df['rating'] = df['rating'].str.extract('(\\d)').astype(float) # Extract numeric from rating\n",
        "df['ram_gb'] = df['ram_gb'].str.replace(' GB', '').astype(int) # Convert RAM to integer\n",
        "df['ssd'] = df['ssd'].str.replace(' GB', '').astype(int) # Convert SSD to integer\n",
        "df['hdd'] = df['hdd'].str.replace(' GB', '').astype(int) # Convert HDD to integer\n",
        "df['graphic_card_gb'] = df['graphic_card_gb'].str.replace(' GB', '').astype(int) # Convert graphic card to integer\n",
        "\n",
        "# Dropping rows with missing target value (Price)\n",
        "df = df.dropna(subset=['Price'])\n",
        "\n",
        "# Convert categorical variables to dummy variables\n",
        "df = pd.get_dummies(df, columns=['brand', 'processor_brand', 'processor_name', 'processor_gnrtn', 'ram_type', 'os', 'os_bit',\n",
        "                                 'weight', 'warranty', 'Touchscreen', 'msoffice'], drop_first=True)"
      ],
      "metadata": {
        "id": "0l8C8OWxTMsj"
      },
      "execution_count": 5,
      "outputs": []
    },
    {
      "cell_type": "markdown",
      "source": [
        "# **Model Selection and Training**"
      ],
      "metadata": {
        "id": "vkJ5eSK5MYL2"
      }
    },
    {
      "cell_type": "code",
      "source": [
        "# 3. Model Selection and Training\n",
        "\n",
        "# Define features (X) and target (y)\n",
        "X = df.drop(columns=['Price'])\n",
        "y = df['Price']\n",
        "\n",
        "# Split the data into training and test sets (80% training, 20% testing)\n",
        "X_train, X_test, y_train, y_test = train_test_split(X, y, test_size=0.2, random_state=42)\n",
        "\n",
        "# Initialize models\n",
        "models = {\n",
        "    'Linear Regression': LinearRegression(),\n",
        "    'Random Forest': RandomForestRegressor(random_state=42),\n",
        "    'Gradient Boosting': GradientBoostingRegressor(random_state=42)\n",
        "}\n",
        "\n",
        "# Train the models and store results\n",
        "results = {}\n",
        "for model_name, model in models.items():\n",
        "    # Train the model\n",
        "    model.fit(X_train, y_train)\n",
        "\n",
        "    # Predict on test set\n",
        "    y_pred = model.predict(X_test)\n",
        "        # Model evaluation\n",
        "    mae = mean_absolute_error(y_test, y_pred)\n",
        "    rmse = np.sqrt(mean_squared_error(y_test, y_pred))\n",
        "\n",
        "    # Store evaluation results\n",
        "    results[model_name] = {'MAE': mae, 'RMSE': rmse}"
      ],
      "metadata": {
        "id": "eDzrwVW9bmZi"
      },
      "execution_count": 6,
      "outputs": []
    },
    {
      "cell_type": "markdown",
      "source": [
        "# **Results**"
      ],
      "metadata": {
        "id": "vdkAdi4dMene"
      }
    },
    {
      "cell_type": "code",
      "source": [
        "# Display evaluation results\n",
        "print(\"\\nModel Evaluation Results:\")\n",
        "for model_name, metrics in results.items():\n",
        "    print(f\"{model_name} - MAE: {metrics['MAE']:.2f}, RMSE: {metrics['RMSE']:.2f}\")\n",
        "\n"
      ],
      "metadata": {
        "id": "svo2MkXZeVJt",
        "colab": {
          "base_uri": "https://localhost:8080/"
        },
        "outputId": "83be04ef-76ec-4a17-e73f-4235ddde0580"
      },
      "execution_count": 7,
      "outputs": [
        {
          "output_type": "stream",
          "name": "stdout",
          "text": [
            "\n",
            "Model Evaluation Results:\n",
            "Linear Regression - MAE: 15981.39, RMSE: 25271.94\n",
            "Random Forest - MAE: 12563.86, RMSE: 22460.72\n",
            "Gradient Boosting - MAE: 12276.25, RMSE: 22430.57\n"
          ]
        }
      ]
    },
    {
      "cell_type": "markdown",
      "source": [
        "# **Cross Validations**"
      ],
      "metadata": {
        "id": "gwcM22NLMhrV"
      }
    },
    {
      "cell_type": "code",
      "source": [
        "# Pro Tip: Cross-validation for model robustness\n",
        "for model_name, model in models.items():\n",
        "    cv_scores = cross_val_score(model, X, y, cv=5, scoring='neg_mean_absolute_error')\n",
        "    print(f\"\\n{model_name} - Cross-validated MAE: {abs(cv_scores.mean()):.2f}\")"
      ],
      "metadata": {
        "colab": {
          "base_uri": "https://localhost:8080/"
        },
        "id": "_1UPiWCAL0Cx",
        "outputId": "4004f860-ae93-45c5-a9bc-4291911d16a6"
      },
      "execution_count": 8,
      "outputs": [
        {
          "output_type": "stream",
          "name": "stdout",
          "text": [
            "\n",
            "Linear Regression - Cross-validated MAE: 23953.91\n",
            "\n",
            "Random Forest - Cross-validated MAE: 19039.12\n",
            "\n",
            "Gradient Boosting - Cross-validated MAE: 18809.68\n"
          ]
        }
      ]
    }
  ]
}